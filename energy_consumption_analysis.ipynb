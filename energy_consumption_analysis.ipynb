{
 "cells": [
  {
   "cell_type": "code",
   "execution_count": 7,
   "id": "98e2a4fa",
   "metadata": {},
   "outputs": [],
   "source": [
    "import pandas as pd\n",
    "import matplotlib.pyplot as plt"
   ]
  },
  {
   "cell_type": "code",
   "execution_count": 8,
   "id": "c522ecc3",
   "metadata": {},
   "outputs": [
    {
     "name": "stdout",
     "output_type": "stream",
     "text": [
      "         Date  Energy_Consumption_kWh  Temperature_C  Electricity_Price_€/kWh\n",
      "0  2023-01-01               14.363503      10.444106                 0.165706\n",
      "1  2023-01-02               28.767858      33.447623                 0.425830\n",
      "2  2023-01-03               23.299849      31.214026                 0.366079\n",
      "3  2023-01-04               19.966462       2.831645                 0.309226\n",
      "4  2023-01-05                8.900466      -2.225548                 0.243532\n"
     ]
    }
   ],
   "source": [
    "# Load the CSV file\n",
    "simulated_data = pd.read_csv(\"simulated_energy_data.csv\")\n",
    "\n",
    "# Verify the data\n",
    "print(simulated_data.head())"
   ]
  },
  {
   "cell_type": "code",
   "execution_count": 9,
   "id": "0458eace",
   "metadata": {},
   "outputs": [
    {
     "data": {
      "text/plain": [
       "Date                       0\n",
       "Energy_Consumption_kWh     0\n",
       "Temperature_C              0\n",
       "Electricity_Price_€/kWh    0\n",
       "dtype: int64"
      ]
     },
     "execution_count": 9,
     "metadata": {},
     "output_type": "execute_result"
    }
   ],
   "source": [
    "simulated_data.isnull().sum()"
   ]
  },
  {
   "cell_type": "code",
   "execution_count": 12,
   "id": "f328dce8",
   "metadata": {},
   "outputs": [
    {
     "name": "stdout",
     "output_type": "stream",
     "text": [
      "                         Energy_Consumption_kWh  Temperature_C  \\\n",
      "Energy_Consumption_kWh                 1.000000       0.006111   \n",
      "Temperature_C                          0.006111       1.000000   \n",
      "Electricity_Price_€/kWh                0.021659      -0.050211   \n",
      "\n",
      "                         Electricity_Price_€/kWh  \n",
      "Energy_Consumption_kWh                  0.021659  \n",
      "Temperature_C                          -0.050211  \n",
      "Electricity_Price_€/kWh                 1.000000  \n"
     ]
    }
   ],
   "source": [
    "# Select only numeric columns for correlation\n",
    "numeric_columns = simulated_data.select_dtypes(include=[\"float64\", \"int64\"])\n",
    "correlation_matrix = numeric_columns.corr()\n",
    "\n",
    "# Display the correlation matrix\n",
    "print(correlation_matrix)"
   ]
  },
  {
   "cell_type": "code",
   "execution_count": 13,
   "id": "d5c54e2c",
   "metadata": {},
   "outputs": [
    {
     "name": "stdout",
     "output_type": "stream",
     "text": [
      "        Date  Energy_Consumption_kWh  Temperature_C  Electricity_Price_€/kWh  \\\n",
      "0 2023-01-01               14.363503      10.444106                 0.165706   \n",
      "1 2023-01-02               28.767858      33.447623                 0.425830   \n",
      "2 2023-01-03               23.299849      31.214026                 0.366079   \n",
      "3 2023-01-04               19.966462       2.831645                 0.309226   \n",
      "4 2023-01-05                8.900466      -2.225548                 0.243532   \n",
      "\n",
      "   Month  Weekday  \n",
      "0      1        6  \n",
      "1      1        0  \n",
      "2      1        1  \n",
      "3      1        2  \n",
      "4      1        3  \n"
     ]
    }
   ],
   "source": [
    "# Convert 'Date' to datetime format\n",
    "simulated_data[\"Date\"] = pd.to_datetime(simulated_data[\"Date\"])\n",
    "\n",
    "# Extract 'Month' and 'Weekday' features\n",
    "simulated_data[\"Month\"] = simulated_data[\"Date\"].dt.month\n",
    "simulated_data[\"Weekday\"] = simulated_data[\"Date\"].dt.weekday\n",
    "\n",
    "# Check the updated DataFrame\n",
    "print(simulated_data.head())\n"
   ]
  },
  {
   "cell_type": "code",
   "execution_count": 14,
   "id": "904a755f",
   "metadata": {},
   "outputs": [
    {
     "name": "stdout",
     "output_type": "stream",
     "text": [
      "        Date  Energy_Consumption_kWh  Temperature_C  Electricity_Price_€/kWh  \\\n",
      "0 2023-01-01               14.363503      10.444106                 0.165706   \n",
      "1 2023-01-02               28.767858      33.447623                 0.425830   \n",
      "2 2023-01-03               23.299849      31.214026                 0.366079   \n",
      "3 2023-01-04               19.966462       2.831645                 0.309226   \n",
      "4 2023-01-05                8.900466      -2.225548                 0.243532   \n",
      "\n",
      "   Month  Weekday      Lag_1  \n",
      "0      1        6        NaN  \n",
      "1      1        0  14.363503  \n",
      "2      1        1  28.767858  \n",
      "3      1        2  23.299849  \n",
      "4      1        3  19.966462  \n"
     ]
    }
   ],
   "source": [
    "# Add lag features (previous day's consumption)\n",
    "simulated_data[\"Lag_1\"] = simulated_data[\"Energy_Consumption_kWh\"].shift(1)\n",
    "\n",
    "# Check for NaN values after adding lag feature\n",
    "print(simulated_data.head())\n"
   ]
  },
  {
   "cell_type": "code",
   "execution_count": 15,
   "id": "f21f848a",
   "metadata": {},
   "outputs": [
    {
     "name": "stdout",
     "output_type": "stream",
     "text": [
      "Train set size: (291, 5), Test set size: (73, 5)\n"
     ]
    }
   ],
   "source": [
    "from sklearn.model_selection import train_test_split\n",
    "\n",
    "# Define features and target\n",
    "features = [\"Temperature_C\", \"Electricity_Price_€/kWh\", \"Month\", \"Weekday\", \"Lag_1\"]  # Select relevant features\n",
    "target = \"Energy_Consumption_kWh\"  # The column to predict\n",
    "\n",
    "# Drop NaN values introduced by lag features\n",
    "simulated_data = simulated_data.dropna()\n",
    "\n",
    "# Split the data\n",
    "X = simulated_data[features]\n",
    "y = simulated_data[target]\n",
    "X_train, X_test, y_train, y_test = train_test_split(X, y, test_size=0.2, random_state=42)\n",
    "\n",
    "# Check the shapes of the splits\n",
    "print(f\"Train set size: {X_train.shape}, Test set size: {X_test.shape}\")\n"
   ]
  },
  {
   "cell_type": "code",
   "execution_count": 16,
   "id": "1780ecb0",
   "metadata": {},
   "outputs": [
    {
     "name": "stdout",
     "output_type": "stream",
     "text": [
      "Mean Absolute Error (MAE): 6.79475326107562\n",
      "Mean Squared Error (MSE): 57.73000283963881\n"
     ]
    }
   ],
   "source": [
    "from sklearn.linear_model import LinearRegression\n",
    "from sklearn.metrics import mean_absolute_error, mean_squared_error\n",
    "\n",
    "# Initialize the model\n",
    "model = LinearRegression()\n",
    "\n",
    "# Train the model\n",
    "model.fit(X_train, y_train)\n",
    "\n",
    "# Make predictions\n",
    "y_pred = model.predict(X_test)\n",
    "\n",
    "# Evaluate the model\n",
    "mae = mean_absolute_error(y_test, y_pred)\n",
    "mse = mean_squared_error(y_test, y_pred)\n",
    "print(f\"Mean Absolute Error (MAE): {mae}\")\n",
    "print(f\"Mean Squared Error (MSE): {mse}\")\n"
   ]
  },
  {
   "cell_type": "code",
   "execution_count": 17,
   "id": "114b6f2a",
   "metadata": {},
   "outputs": [
    {
     "name": "stdout",
     "output_type": "stream",
     "text": [
      "Random Forest MAE: 6.7166111026135615\n",
      "Random Forest MSE: 57.43476586593884\n"
     ]
    }
   ],
   "source": [
    "from sklearn.ensemble import RandomForestRegressor\n",
    "from sklearn.metrics import mean_absolute_error, mean_squared_error\n",
    "\n",
    "# Initialize the Random Forest model\n",
    "rf_model = RandomForestRegressor(n_estimators=100, random_state=42)\n",
    "\n",
    "# Train the model\n",
    "rf_model.fit(X_train, y_train)\n",
    "\n",
    "# Make predictions\n",
    "rf_y_pred = rf_model.predict(X_test)\n",
    "\n",
    "# Evaluate the model\n",
    "rf_mae = mean_absolute_error(y_test, rf_y_pred)\n",
    "rf_mse = mean_squared_error(y_test, rf_y_pred)\n",
    "print(f\"Random Forest MAE: {rf_mae}\")\n",
    "print(f\"Random Forest MSE: {rf_mse}\")"
   ]
  },
  {
   "cell_type": "code",
   "execution_count": 18,
   "id": "cbaf3667",
   "metadata": {},
   "outputs": [
    {
     "name": "stdout",
     "output_type": "stream",
     "text": [
      "Model saved as 'energy_consumption_model.pkl'\n"
     ]
    }
   ],
   "source": [
    "import joblib\n",
    "\n",
    "# Save the trained Random Forest model\n",
    "joblib.dump(rf_model, \"energy_consumption_model.pkl\")\n",
    "\n",
    "# Check if the model file is created\n",
    "print(\"Model saved as 'energy_consumption_model.pkl'\")\n"
   ]
  },
  {
   "cell_type": "code",
   "execution_count": 22,
   "id": "1c139bca",
   "metadata": {},
   "outputs": [],
   "source": [
    "new_data = [[15.0, 0.25, 7, 3, 20.0]]  # Example input"
   ]
  },
  {
   "cell_type": "code",
   "execution_count": 23,
   "id": "4413cf9b",
   "metadata": {},
   "outputs": [
    {
     "name": "stdout",
     "output_type": "stream",
     "text": [
      "Predicted Energy Consumption: 17.076237105844108 kWh\n"
     ]
    }
   ],
   "source": [
    "# Convert new_data to a DataFrame with feature names\n",
    "new_data_df = pd.DataFrame(new_data, columns=[\"Temperature_C\", \"Electricity_Price_€/kWh\", \"Month\", \"Weekday\", \"Lag_1\"])\n",
    "\n",
    "# Make predictions\n",
    "prediction = loaded_model.predict(new_data_df)\n",
    "print(f\"Predicted Energy Consumption: {prediction[0]} kWh\")\n"
   ]
  }
 ],
 "metadata": {
  "kernelspec": {
   "display_name": "Python 3 (ipykernel)",
   "language": "python",
   "name": "python3"
  },
  "language_info": {
   "codemirror_mode": {
    "name": "ipython",
    "version": 3
   },
   "file_extension": ".py",
   "mimetype": "text/x-python",
   "name": "python",
   "nbconvert_exporter": "python",
   "pygments_lexer": "ipython3",
   "version": "3.11.5"
  }
 },
 "nbformat": 4,
 "nbformat_minor": 5
}
